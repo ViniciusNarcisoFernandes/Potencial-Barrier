{
  "nbformat": 4,
  "nbformat_minor": 0,
  "metadata": {
    "colab": {
      "provenance": [],
      "authorship_tag": "ABX9TyNJIlmDfRZYDBO/hlXp9Cr7",
      "include_colab_link": true
    },
    "kernelspec": {
      "name": "python3",
      "display_name": "Python 3"
    },
    "language_info": {
      "name": "python"
    }
  },
  "cells": [
    {
      "cell_type": "markdown",
      "metadata": {
        "id": "view-in-github",
        "colab_type": "text"
      },
      "source": [
        "<a href=\"https://colab.research.google.com/github/ViniciusNarcisoFernandes/Potencial-Barrier/blob/main/Potencial_Barreira_E%3CV0.ipynb\" target=\"_parent\"><img src=\"https://colab.research.google.com/assets/colab-badge.svg\" alt=\"Open In Colab\"/></a>"
      ]
    },
    {
      "cell_type": "code",
      "execution_count": null,
      "metadata": {
        "id": "mXW7V6V-ORB-"
      },
      "outputs": [],
      "source": [
        "import numpy as np\n",
        "import matplotlib.pyplot as plt\n",
        "\n",
        "# Constantes:\n",
        "m_e = 9.10938356 * 10**(-31)\n",
        "hbar1 = 1.0545718 * 10**(-14)\n",
        "hbar2 = 6.58211915 * 10**(-16)\n",
        "hbar = hbar1*hbar2\n",
        "\n",
        "# Energia inicial e final:\n",
        "Ei = 1 ; Ef = 8\n",
        "\n",
        "# Tamanho da Barreira:\n",
        "a = 6\n",
        "\n",
        "# Potencial da Barreira:\n",
        "V0 = 3\n",
        "\n",
        "# Listas:\n",
        "R = list() ; T = list() ; RT = list() ; E = list()\n",
        "\n",
        "for i in np.arange(Ei+0.01,Ef-0.01,0.01):\n",
        "\n",
        "  # Número de onda:\n",
        "  if i-V0 > 0:\n",
        "    k0 = np.sqrt(2*m_e*(i)/hbar)\n",
        "    k1 = np.sqrt(2*m_e*(i-V0)/hbar)\n",
        "  else:\n",
        "    k0 = np.sqrt(2*m_e*(i)/hbar)\n",
        "    k1 = 1j*np.sqrt(2*m_e*(i-V0)/hbar)\n",
        "\n",
        "  # Matriz A:\n",
        "  A = np.zeros((4,4),dtype = np.cdouble)\n",
        "\n",
        "  # Primeira linha:\n",
        "  A[0,0] = 1 ; A[0,1] = -1 ; A[0,2] = -1\n",
        "  # Segunda linha:\n",
        "  A[1,1] = np.exp(1j*k1*a) ; A[1,2] = np.exp(-1j*k1*a) ; A[1,3] = -np.exp(1j*k0*a)\n",
        "  # Terceira linha:\n",
        "  A[2,0] = -k0 ; A[2,1] = -k1 ; A[2,2] = k1\n",
        "  # Quarta linha:\n",
        "  A[3,1] = k1*np.exp(1j*k1*a) ; A[3,2] = -k1*np.exp(-1j*k1*a) ; A[3,3] = -k0*np.exp(1j*k0*a)\n",
        "\n",
        "  # Matriz b:\n",
        "  b = np.zeros((4,1),dtype = np.cdouble)\n",
        "  b[0,0] = -1 ; b[2,0] = -k0\n",
        "\n",
        "  # Resolvendo o sistema linear:\n",
        "  x = np.linalg.solve(A,b)\n",
        "\n",
        "  # Índice de Reflexão:\n",
        "  R1 = x[0,0]*np.conj(x[0,0])\n",
        "  R.append(R1.real)\n",
        "\n",
        "  # Índice de Transmissão:\n",
        "  T1 = x[3,0]*np.conj(x[3,0])\n",
        "  T.append(T1.real)\n",
        "\n",
        "  # Somando os índices:\n",
        "  RT.append((R1+T1).real)\n",
        "\n",
        "  # Energia:\n",
        "  E.append(i)\n",
        "\n",
        "# Valores do índice de Reflexão:\n",
        "print('R =',R)\n",
        "\n",
        "# Valores do índice de Transmissão:\n",
        "print('T =',T)\n",
        "\n",
        "# Plot:\n",
        "plt.figure()\n",
        "plt.plot(E,R,color='Red',linestyle='-.',label='R(E)')\n",
        "plt.plot(E,T,color='Blue',linestyle='-.',label='T(E)')\n",
        "plt.plot(E,RT,color='Black',linestyle='-')\n",
        "plt.xlabel('E')\n",
        "plt.ylabel('R(E) e T(E)')\n",
        "plt.title('Potencial Barreira: E < V0')\n",
        "plt.legend(loc='best')\n",
        "plt.grid(True)\n",
        "plt.show()\n"
      ]
    }
  ]
}